{
 "cells": [
  {
   "cell_type": "code",
   "execution_count": 1,
   "metadata": {},
   "outputs": [],
   "source": [
    "import speech_recognition as sr"
   ]
  },
  {
   "cell_type": "code",
   "execution_count": 2,
   "metadata": {},
   "outputs": [
    {
     "data": {
      "text/plain": [
       "'3.8.1'"
      ]
     },
     "execution_count": 2,
     "metadata": {},
     "output_type": "execute_result"
    }
   ],
   "source": [
    "sr.__version__"
   ]
  },
  {
   "cell_type": "markdown",
   "metadata": {},
   "source": [
    "# Using the Speech Recognition Package"
   ]
  },
  {
   "cell_type": "code",
   "execution_count": 3,
   "metadata": {},
   "outputs": [],
   "source": [
    "r = sr.Recognizer()"
   ]
  },
  {
   "cell_type": "code",
   "execution_count": 11,
   "metadata": {},
   "outputs": [],
   "source": [
    "test = sr.AudioFile('test2.wav')\n",
    "with test as source:\n",
    "    audio = r.record(source,duration=200)"
   ]
  },
  {
   "cell_type": "code",
   "execution_count": 12,
   "metadata": {},
   "outputs": [
    {
     "ename": "UnknownValueError",
     "evalue": "",
     "output_type": "error",
     "traceback": [
      "\u001b[0;31m---------------------------------------------------------------------------\u001b[0m",
      "\u001b[0;31mUnknownValueError\u001b[0m                         Traceback (most recent call last)",
      "\u001b[0;32m<ipython-input-12-59c33ef07a2e>\u001b[0m in \u001b[0;36m<module>\u001b[0;34m()\u001b[0m\n\u001b[0;32m----> 1\u001b[0;31m \u001b[0mr\u001b[0m\u001b[0;34m.\u001b[0m\u001b[0mrecognize_google\u001b[0m\u001b[0;34m(\u001b[0m\u001b[0maudio\u001b[0m\u001b[0;34m)\u001b[0m\u001b[0;34m\u001b[0m\u001b[0;34m\u001b[0m\u001b[0m\n\u001b[0m",
      "\u001b[0;32m/anaconda3/lib/python3.6/site-packages/speech_recognition/__init__.py\u001b[0m in \u001b[0;36mrecognize_google\u001b[0;34m(self, audio_data, key, language, show_all)\u001b[0m\n\u001b[1;32m    856\u001b[0m         \u001b[0;31m# return results\u001b[0m\u001b[0;34m\u001b[0m\u001b[0;34m\u001b[0m\u001b[0;34m\u001b[0m\u001b[0m\n\u001b[1;32m    857\u001b[0m         \u001b[0;32mif\u001b[0m \u001b[0mshow_all\u001b[0m\u001b[0;34m:\u001b[0m \u001b[0;32mreturn\u001b[0m \u001b[0mactual_result\u001b[0m\u001b[0;34m\u001b[0m\u001b[0;34m\u001b[0m\u001b[0m\n\u001b[0;32m--> 858\u001b[0;31m         \u001b[0;32mif\u001b[0m \u001b[0;32mnot\u001b[0m \u001b[0misinstance\u001b[0m\u001b[0;34m(\u001b[0m\u001b[0mactual_result\u001b[0m\u001b[0;34m,\u001b[0m \u001b[0mdict\u001b[0m\u001b[0;34m)\u001b[0m \u001b[0;32mor\u001b[0m \u001b[0mlen\u001b[0m\u001b[0;34m(\u001b[0m\u001b[0mactual_result\u001b[0m\u001b[0;34m.\u001b[0m\u001b[0mget\u001b[0m\u001b[0;34m(\u001b[0m\u001b[0;34m\"alternative\"\u001b[0m\u001b[0;34m,\u001b[0m \u001b[0;34m[\u001b[0m\u001b[0;34m]\u001b[0m\u001b[0;34m)\u001b[0m\u001b[0;34m)\u001b[0m \u001b[0;34m==\u001b[0m \u001b[0;36m0\u001b[0m\u001b[0;34m:\u001b[0m \u001b[0;32mraise\u001b[0m \u001b[0mUnknownValueError\u001b[0m\u001b[0;34m(\u001b[0m\u001b[0;34m)\u001b[0m\u001b[0;34m\u001b[0m\u001b[0;34m\u001b[0m\u001b[0m\n\u001b[0m\u001b[1;32m    859\u001b[0m \u001b[0;34m\u001b[0m\u001b[0m\n\u001b[1;32m    860\u001b[0m         \u001b[0;32mif\u001b[0m \u001b[0;34m\"confidence\"\u001b[0m \u001b[0;32min\u001b[0m \u001b[0mactual_result\u001b[0m\u001b[0;34m[\u001b[0m\u001b[0;34m\"alternative\"\u001b[0m\u001b[0;34m]\u001b[0m\u001b[0;34m:\u001b[0m\u001b[0;34m\u001b[0m\u001b[0;34m\u001b[0m\u001b[0m\n",
      "\u001b[0;31mUnknownValueError\u001b[0m: "
     ]
    }
   ],
   "source": [
    "r.recognize_google(audio)"
   ]
  },
  {
   "cell_type": "markdown",
   "metadata": {},
   "source": [
    "# Using Google"
   ]
  },
  {
   "cell_type": "code",
   "execution_count": 5,
   "metadata": {},
   "outputs": [
    {
     "name": "stdout",
     "output_type": "stream",
     "text": [
      "env: GOOGLE_APPLICATION_CREDENTIALS=./innate-solution-180816-a14c92025269.json\n",
      "Transcript: the Birch canoes lid on the smooth planks\n",
      "Transcript:  glue the seat to the dark blue background\n",
      "Transcript:  it is easy to tell the death of a well.\n",
      "Transcript:  These days a chicken leg as a word dish.\n",
      "Transcript:  Rice is often served in round bowls.\n",
      "Transcript:  Did use of lemon snakes find punch.\n",
      "Transcript:  The box was down beside the park truck.\n",
      "Transcript:  the Hogs of the popcorn and garbage\n",
      "Transcript:  4 hours of study work face to us\n",
      "Transcript:  a large size in stockings is hard to sell.\n"
     ]
    }
   ],
   "source": [
    "import io\n",
    "import os\n",
    "\n",
    "# Imports the Google Cloud client library\n",
    "from google.cloud import speech\n",
    "from google.cloud.speech import enums\n",
    "from google.cloud.speech import types\n",
    "\n",
    "# os.system(\"export GOOGLE_APPLICATION_CREDENTIALS=./innate-solution-180816-a14c92025269.json\")\n",
    "\n",
    "%env GOOGLE_APPLICATION_CREDENTIALS=./innate-solution-180816-a14c92025269.json\n",
    "\n",
    "# Instantiates a client\n",
    "client = speech.SpeechClient()\n",
    "\n",
    "# The name of the audio file to transcribe\n",
    "file_name = \"test1.wav\"\n",
    "\n",
    "# Loads the audio into memory\n",
    "with io.open(file_name, 'rb') as audio_file:\n",
    "    content = audio_file.read()\n",
    "    audio = types.RecognitionAudio(content=content)\n",
    "\n",
    "config = types.RecognitionConfig(\n",
    "    encoding=enums.RecognitionConfig.AudioEncoding.LINEAR16,\n",
    "#     sample_rate_hertz=8000,\n",
    "    language_code='en-US')\n",
    "\n",
    "# Detects speech in the audio file\n",
    "response = client.recognize(config, audio)\n",
    "\n",
    "for result in response.results:\n",
    "    print('Transcript: {}'.format(result.alternatives[0].transcript))"
   ]
  },
  {
   "cell_type": "code",
   "execution_count": 9,
   "metadata": {},
   "outputs": [],
   "source": [
    "! export GOOGLE_APPLICATION_CREDENTIALS=/Users/huginn/Desktop/Speech\\ to\\ Text/Testing/innate-solution-180816-a14c92025269.json"
   ]
  },
  {
   "cell_type": "code",
   "execution_count": 12,
   "metadata": {},
   "outputs": [
    {
     "name": "stdout",
     "output_type": "stream",
     "text": [
      "\r\n"
     ]
    }
   ],
   "source": [
    "! echo $GOOGLE_APPLICATION_CREDENTIALS"
   ]
  },
  {
   "cell_type": "code",
   "execution_count": 130,
   "metadata": {},
   "outputs": [
    {
     "name": "stdout",
     "output_type": "stream",
     "text": [
      "env: GOOGLE_APPLICATION_CREDENTIALS=./innate-solution-180816-a14c92025269.json\n"
     ]
    }
   ],
   "source": [
    "# %env GOOGLE_APPLICATION_CREDENTIALS=./innate-solution-180816-a14c92025269.json"
   ]
  },
  {
   "cell_type": "code",
   "execution_count": 3,
   "metadata": {},
   "outputs": [
    {
     "data": {
      "text/plain": [
       "0"
      ]
     },
     "execution_count": 3,
     "metadata": {},
     "output_type": "execute_result"
    }
   ],
   "source": [
    "os.system(\"export GOOGLE_APPLICATION_CREDENTIALS=./innate-solution-180816-a14c92025269.json\")"
   ]
  },
  {
   "cell_type": "code",
   "execution_count": 4,
   "metadata": {},
   "outputs": [
    {
     "name": "stdout",
     "output_type": "stream",
     "text": [
      "\r\n"
     ]
    }
   ],
   "source": [
    "! echo $GOOGLE_APPLICATION_CREDENTIALS"
   ]
  },
  {
   "cell_type": "code",
   "execution_count": 132,
   "metadata": {},
   "outputs": [
    {
     "name": "stdout",
     "output_type": "stream",
     "text": [
      "Speech to Text.ipynb\r\n",
      "innate-solution-180816-a14c92025269.json\r\n",
      "innate-solution-180816-a14c920252690.json\r\n",
      "mono_test2.wav\r\n",
      "test1.flac\r\n",
      "test1.wav\r\n",
      "test2.wav\r\n"
     ]
    }
   ],
   "source": [
    "! ls"
   ]
  },
  {
   "cell_type": "code",
   "execution_count": 7,
   "metadata": {},
   "outputs": [],
   "source": [
    "import io\n",
    "import os\n",
    "\n",
    "# Imports the Google Cloud client library\n",
    "from google.cloud import speech\n",
    "from google.cloud.speech import enums\n",
    "from google.cloud.speech import types\n",
    "from scipy.io import wavfile\n",
    "\n",
    "def createURI(bucket_name, file_path):\n",
    "    return \"gs://{}/{}\".format(bucket_name,file_path)\n",
    "\n",
    "def transcribe_gcs(gcs_uri):\n",
    "    \"\"\"Asynchronously transcribes the audio file specified by the gcs_uri.\"\"\"\n",
    "    from google.cloud import speech\n",
    "    from google.cloud.speech import enums\n",
    "    from google.cloud.speech import types\n",
    "    client = speech.SpeechClient()\n",
    "\n",
    "    audio = types.RecognitionAudio(uri=gcs_uri)\n",
    "    config = types.RecognitionConfig(\n",
    "    encoding=enums.RecognitionConfig.AudioEncoding.LINEAR16,\n",
    "#     sample_rate_hertz=8000,\n",
    "    language_code='en-US')\n",
    "\n",
    "    operation = client.long_running_recognize(config, audio)\n",
    "\n",
    "    print('Waiting for operation to complete...')\n",
    "    response = operation.result(timeout=90)\n",
    "    \n",
    "    output_list = []\n",
    "    # Each result is for a consecutive portion of the audio. Iterate through\n",
    "    # them to get the transcripts for the entire audio file.\n",
    "    for result in response.results:\n",
    "        # The first alternative is the most likely one for this portion.\n",
    "        print(u'Transcript: {}'.format(result.alternatives[0].transcript))\n",
    "        print('Confidence: {}'.format(result.alternatives[0].confidence))\n",
    "        output_list.append(result.alternatives[0].transcript)\n",
    "        \n",
    "    output =\"\"\n",
    "\n",
    "    for out in output_list:\n",
    "        output+=out\n",
    "        \n",
    "    return output\n",
    "        \n",
    "def cut_data(wav_file):\n",
    "    fs, data = wavfile.read(wav_file)\n",
    "    wavfile.write('mono_{}.wav'.format(wav_file),fs, data[:,0])\n",
    "    return 'mono_{}.wav'.format(wav_file)\n",
    "\n",
    "def generate_analysis(bucket_name,filepath):\n",
    "    return transcribe_gcs(createURI(bucket_name,filepath))"
   ]
  },
  {
   "cell_type": "code",
   "execution_count": 8,
   "metadata": {},
   "outputs": [
    {
     "name": "stdout",
     "output_type": "stream",
     "text": [
      "Waiting for operation to complete...\n",
      "Transcript: sometimes math and physics conspire in ways that just feel too good to be true let's play a strange sort of mathematical croquet we're going to have to Sliding blocks and a wall the first block Stars by coming in at some velocity from the right while the second one starts out stationary being overly idealistic physicists let's assume that there's no friction and all of the collisions are perfectly elastic which means no energy is lost, you might complain that such collisions would make no sound but your goal here is going to be to count how many collisions take place so it's like conflict with that assumption I want to leave a little quack sound to better draw your attention to that count the simplest case is when both blocks have the same mass the first block Hits II transferring all of its momentum than the second one down says off the wall and then transfers all of its momentum back to the first which then sales up towards Infinity 3 total plaques\n",
      "Confidence: 0.9776282906532288\n",
      "Transcript: if you all the relevant physics in due course it's not entirely obvious how you would predict the Dynamics here but in the spirit of getting to the punchline let's watch what happens the second one will keep bouncing back and forth between the wall and the first part of break out slowly and discreetly momentum to point in the opposite direction in total there will be 31 Collision before each block is sliding off towards Infinity never to be touched again\n",
      "Confidence: 0.9597086906433105\n",
      "Transcript:  the first book was 10000 times the mass of the second one and that case there would be quite a few more cracks all happening very rapidly at one point\n",
      "Confidence: 0.9039549231529236\n",
      "Transcript:  adding ethanol to 313 total collisions actually hang on wait for it\n",
      "Confidence: 0.9462395906448364\n",
      "Transcript:  wait for it\n",
      "Confidence: 0.920870304107666\n",
      "Transcript:  okay 314 clax if the first block was 1 million times the mass of the other then again with all of our crazy idealistic conditions almost all of the klax happened in one big burst this time resulting in a total of 3141 collisions perhaps you see the pattern here though it's forgivable if you don't since it defies all expectation when the mass of that first block is some power of 100 times the mass of the second the total number of collisions have the same digits as pie this absolutely blew my mind when it was first shared with me read it to the viewer Henry Cavill for introducing me to this fact which was originally discovered by the mathematician in 1995 and published in 2003\n",
      "Confidence: 0.9622526168823242\n",
      "Transcript:  what is what I love about this is that if ever they were Olympic Games for algorithms that compute Pi this one would have to win medals both for being the most elegant and for being the most commonly inefficient I mean think about the actual algorithm here Step One Employment to physics engine step to choose the number of digits D of Pi that you'd like to compute step 3 set the mass of one of the blocks to be 100 ^ -1 then send it traveling on a frictionless Surface towards a block of mass one and set for count all of the collisions so for example to calculate only 20 digits of pi which fits so cleanly on the screen one block would have to have 100 billion billion billion billion times the mass of the other witch if that small block was one kilogram means the big one that has a mass of about 10 times that of the supermassive black hole at the center of the Milky Way that means you would need to count about 31 billion billion collisions and it one point in this virtual process the frequency\n",
      "Confidence: 0.9758033752441406\n",
      "Transcript:  wax would be around 100 billion billion billion billion flaps per second to let's just say that you would need very good numerical Precision to get this working accurately and it would take a very long time for the algorithm to complete alphasights again that this process is way over idealized quickly departing from anything that could possibly happen in real physics\n",
      "Confidence: 0.9641777873039246\n",
      "Transcript:  no this is not interesting because of its potential as an actual pie Computing algorithm or as a pragmatic physics demonstration it's mind-boggling because why on Earth would pie show up here and it's in such a weird way to its decimal digits are counting something but usually Pie shows up when its precise value is just grabbing something continuist I will show you why this is true where there is high there is a hidden Circle and in this case that hidden Circle comes from the conservation of energy in fact you're going to see two separate methods which are each and studying and surprising is the fact of self-gratification though it will make you wait until the next video to see what's going on in the meantime I highly encourage you to take a stab at it yourself and be social about it it's a hard puzzle so it never hurts to recruit some other smart Minds to the task\n",
      "Confidence: 0.9645306468009949\n"
     ]
    },
    {
     "data": {
      "text/plain": [
       "[\"sometimes math and physics conspire in ways that just feel too good to be true let's play a strange sort of mathematical croquet we're going to have to Sliding blocks and a wall the first block Stars by coming in at some velocity from the right while the second one starts out stationary being overly idealistic physicists let's assume that there's no friction and all of the collisions are perfectly elastic which means no energy is lost, you might complain that such collisions would make no sound but your goal here is going to be to count how many collisions take place so it's like conflict with that assumption I want to leave a little quack sound to better draw your attention to that count the simplest case is when both blocks have the same mass the first block Hits II transferring all of its momentum than the second one down says off the wall and then transfers all of its momentum back to the first which then sales up towards Infinity 3 total plaques\",\n",
       " \"if you all the relevant physics in due course it's not entirely obvious how you would predict the Dynamics here but in the spirit of getting to the punchline let's watch what happens the second one will keep bouncing back and forth between the wall and the first part of break out slowly and discreetly momentum to point in the opposite direction in total there will be 31 Collision before each block is sliding off towards Infinity never to be touched again\",\n",
       " ' the first book was 10000 times the mass of the second one and that case there would be quite a few more cracks all happening very rapidly at one point',\n",
       " ' adding ethanol to 313 total collisions actually hang on wait for it',\n",
       " ' wait for it',\n",
       " \" okay 314 clax if the first block was 1 million times the mass of the other then again with all of our crazy idealistic conditions almost all of the klax happened in one big burst this time resulting in a total of 3141 collisions perhaps you see the pattern here though it's forgivable if you don't since it defies all expectation when the mass of that first block is some power of 100 times the mass of the second the total number of collisions have the same digits as pie this absolutely blew my mind when it was first shared with me read it to the viewer Henry Cavill for introducing me to this fact which was originally discovered by the mathematician in 1995 and published in 2003\",\n",
       " \" what is what I love about this is that if ever they were Olympic Games for algorithms that compute Pi this one would have to win medals both for being the most elegant and for being the most commonly inefficient I mean think about the actual algorithm here Step One Employment to physics engine step to choose the number of digits D of Pi that you'd like to compute step 3 set the mass of one of the blocks to be 100 ^ -1 then send it traveling on a frictionless Surface towards a block of mass one and set for count all of the collisions so for example to calculate only 20 digits of pi which fits so cleanly on the screen one block would have to have 100 billion billion billion billion times the mass of the other witch if that small block was one kilogram means the big one that has a mass of about 10 times that of the supermassive black hole at the center of the Milky Way that means you would need to count about 31 billion billion collisions and it one point in this virtual process the frequency\",\n",
       " \" wax would be around 100 billion billion billion billion flaps per second to let's just say that you would need very good numerical Precision to get this working accurately and it would take a very long time for the algorithm to complete alphasights again that this process is way over idealized quickly departing from anything that could possibly happen in real physics\",\n",
       " \" no this is not interesting because of its potential as an actual pie Computing algorithm or as a pragmatic physics demonstration it's mind-boggling because why on Earth would pie show up here and it's in such a weird way to its decimal digits are counting something but usually Pie shows up when its precise value is just grabbing something continuist I will show you why this is true where there is high there is a hidden Circle and in this case that hidden Circle comes from the conservation of energy in fact you're going to see two separate methods which are each and studying and surprising is the fact of self-gratification though it will make you wait until the next video to see what's going on in the meantime I highly encourage you to take a stab at it yourself and be social about it it's a hard puzzle so it never hurts to recruit some other smart Minds to the task\"]"
      ]
     },
     "execution_count": 8,
     "metadata": {},
     "output_type": "execute_result"
    }
   ],
   "source": [
    "generate_analysis('sumy','mono_test2_1.wav')"
   ]
  },
  {
   "cell_type": "markdown",
   "metadata": {},
   "source": [
    "# Cloud Storage"
   ]
  },
  {
   "cell_type": "code",
   "execution_count": 109,
   "metadata": {},
   "outputs": [],
   "source": [
    "from google.cloud import storage\n",
    "\n",
    "class Cloud():\n",
    "\n",
    "    def __init__(self, dataset = \"simulations\"):\n",
    "        self.APIKEY = \"innate-solution-180816-a14c92025269.json\"\n",
    "        self.projectID = \"innate-solution-180816\"\n",
    "        self.dataset = dataset\n",
    "        \n",
    "    def upload_blob(self, bucket_name, path, destination_name):\n",
    "        \"\"\"Uploads a file to the bucket.\"\"\"\n",
    "        storage_client = storage.Client.from_service_account_json(\n",
    "        self.APIKEY)\n",
    "        bucket = storage_client.get_bucket(bucket_name)\n",
    "        blob = bucket.blob(destination_name)\n",
    "        blob.upload_from_filename(path)\n",
    "\n",
    "        print('File {} uploaded to {}.'.format(\n",
    "            path,\n",
    "            destination_name))\n",
    "        \n",
    "    def download_blob(self, bucket_name, source_name, destination_name):\n",
    "        \"\"\"Downloads a blob from the bucket.\"\"\"\n",
    "        storage_client = storage.Client.from_service_account_json(\n",
    "        self.APIKEY)\n",
    "        bucket = storage_client.get_bucket(bucket_name)\n",
    "        blob = bucket.blob(source_name)\n",
    "\n",
    "        blob.download_to_filename(destination_name)\n",
    "\n",
    "        print('Blob {} downloaded to {}.'.format(\n",
    "            source_name,\n",
    "            destination_name))"
   ]
  },
  {
   "cell_type": "code",
   "execution_count": 110,
   "metadata": {},
   "outputs": [],
   "source": [
    "cloud = Cloud()"
   ]
  },
  {
   "cell_type": "code",
   "execution_count": 111,
   "metadata": {},
   "outputs": [
    {
     "name": "stdout",
     "output_type": "stream",
     "text": [
      "Blob test1.wav downloaded to new,wav.\n"
     ]
    }
   ],
   "source": [
    "cloud.download_blob('sumy','','')"
   ]
  },
  {
   "cell_type": "code",
   "execution_count": 14,
   "metadata": {},
   "outputs": [],
   "source": [
    "output=\"\"\n",
    "\n",
    "for out in Out[8]:\n",
    "    output+=out\n",
    "    output+='.'"
   ]
  },
  {
   "cell_type": "code",
   "execution_count": 15,
   "metadata": {},
   "outputs": [
    {
     "data": {
      "text/plain": [
       "\"sometimes math and physics conspire in ways that just feel too good to be true let's play a strange sort of mathematical croquet we're going to have to Sliding blocks and a wall the first block Stars by coming in at some velocity from the right while the second one starts out stationary being overly idealistic physicists let's assume that there's no friction and all of the collisions are perfectly elastic which means no energy is lost, you might complain that such collisions would make no sound but your goal here is going to be to count how many collisions take place so it's like conflict with that assumption I want to leave a little quack sound to better draw your attention to that count the simplest case is when both blocks have the same mass the first block Hits II transferring all of its momentum than the second one down says off the wall and then transfers all of its momentum back to the first which then sales up towards Infinity 3 total plaques.if you all the relevant physics in due course it's not entirely obvious how you would predict the Dynamics here but in the spirit of getting to the punchline let's watch what happens the second one will keep bouncing back and forth between the wall and the first part of break out slowly and discreetly momentum to point in the opposite direction in total there will be 31 Collision before each block is sliding off towards Infinity never to be touched again. the first book was 10000 times the mass of the second one and that case there would be quite a few more cracks all happening very rapidly at one point. adding ethanol to 313 total collisions actually hang on wait for it. wait for it. okay 314 clax if the first block was 1 million times the mass of the other then again with all of our crazy idealistic conditions almost all of the klax happened in one big burst this time resulting in a total of 3141 collisions perhaps you see the pattern here though it's forgivable if you don't since it defies all expectation when the mass of that first block is some power of 100 times the mass of the second the total number of collisions have the same digits as pie this absolutely blew my mind when it was first shared with me read it to the viewer Henry Cavill for introducing me to this fact which was originally discovered by the mathematician in 1995 and published in 2003. what is what I love about this is that if ever they were Olympic Games for algorithms that compute Pi this one would have to win medals both for being the most elegant and for being the most commonly inefficient I mean think about the actual algorithm here Step One Employment to physics engine step to choose the number of digits D of Pi that you'd like to compute step 3 set the mass of one of the blocks to be 100 ^ -1 then send it traveling on a frictionless Surface towards a block of mass one and set for count all of the collisions so for example to calculate only 20 digits of pi which fits so cleanly on the screen one block would have to have 100 billion billion billion billion times the mass of the other witch if that small block was one kilogram means the big one that has a mass of about 10 times that of the supermassive black hole at the center of the Milky Way that means you would need to count about 31 billion billion collisions and it one point in this virtual process the frequency. wax would be around 100 billion billion billion billion flaps per second to let's just say that you would need very good numerical Precision to get this working accurately and it would take a very long time for the algorithm to complete alphasights again that this process is way over idealized quickly departing from anything that could possibly happen in real physics. no this is not interesting because of its potential as an actual pie Computing algorithm or as a pragmatic physics demonstration it's mind-boggling because why on Earth would pie show up here and it's in such a weird way to its decimal digits are counting something but usually Pie shows up when its precise value is just grabbing something continuist I will show you why this is true where there is high there is a hidden Circle and in this case that hidden Circle comes from the conservation of energy in fact you're going to see two separate methods which are each and studying and surprising is the fact of self-gratification though it will make you wait until the next video to see what's going on in the meantime I highly encourage you to take a stab at it yourself and be social about it it's a hard puzzle so it never hurts to recruit some other smart Minds to the task.\""
      ]
     },
     "execution_count": 15,
     "metadata": {},
     "output_type": "execute_result"
    }
   ],
   "source": [
    "output"
   ]
  },
  {
   "cell_type": "code",
   "execution_count": 18,
   "metadata": {},
   "outputs": [],
   "source": [
    "with open(\"hello.txt\",\"w+\") as f:\n",
    "    f.write(output)"
   ]
  },
  {
   "cell_type": "code",
   "execution_count": 20,
   "metadata": {},
   "outputs": [
    {
     "name": "stdout",
     "output_type": "stream",
     "text": [
      "sometimes math and physics conspire in ways that just feel too good to be true let's play a strange sort of mathematical croquet we're going to have to Sliding blocks and a wall the first block Stars by coming in at some velocity from the right while the second one starts out stationary being overly idealistic physicists let's assume that there's no friction and all of the collisions are perfectly elastic which means no energy is lost, you might complain that such collisions would make no sound but your goal here is going to be to count how many collisions take place so it's like conflict with that assumption I want to leave a little quack sound to better draw your attention to that count the simplest case is when both blocks have the same mass the first block Hits II transferring all of its momentum than the second one down says off the wall and then transfers all of its momentum back to the first which then sales up towards Infinity 3 total plaques.if you all the relevant physics in due course it's not entirely obvious how you would predict the Dynamics here but in the spirit of getting to the punchline let's watch what happens the second one will keep bouncing back and forth between the wall and the first part of break out slowly and discreetly momentum to point in the opposite direction in total there will be 31 Collision before each block is sliding off towards Infinity never to be touched again. the first book was 10000 times the mass of the second one and that case there would be quite a few more cracks all happening very rapidly at one point. adding ethanol to 313 total collisions actually hang on wait for it. wait for it. okay 314 clax if the first block was 1 million times the mass of the other then again with all of our crazy idealistic conditions almost all of the klax happened in one big burst this time resulting in a total of 3141 collisions perhaps you see the pattern here though it's forgivable if you don't since it defies all expectation when the mass of that first block is some power of 100 times the mass of the second the total number of collisions have the same digits as pie this absolutely blew my mind when it was first shared with me read it to the viewer Henry Cavill for introducing me to this fact which was originally discovered by the mathematician in 1995 and published in 2003. what is what I love about this is that if ever they were Olympic Games for algorithms that compute Pi this one would have to win medals both for being the most elegant and for being the most commonly inefficient I mean think about the actual algorithm here Step One Employment to physics engine step to choose the number of digits D of Pi that you'd like to compute step 3 set the mass of one of the blocks to be 100 ^ -1 then send it traveling on a frictionless Surface towards a block of mass one and set for count all of the collisions so for example to calculate only 20 digits of pi which fits so cleanly on the screen one block would have to have 100 billion billion billion billion times the mass of the other witch if that small block was one kilogram means the big one that has a mass of about 10 times that of the supermassive black hole at the center of the Milky Way that means you would need to count about 31 billion billion collisions and it one point in this virtual process the frequency. wax would be around 100 billion billion billion billion flaps per second to let's just say that you would need very good numerical Precision to get this working accurately and it would take a very long time for the algorithm to complete alphasights again that this process is way over idealized quickly departing from anything that could possibly happen in real physics. no this is not interesting because of its potential as an actual pie Computing algorithm or as a pragmatic physics demonstration it's mind-boggling because why on Earth would pie show up here and it's in such a weird way to its decimal digits are counting something but usually Pie shows up when its precise value is just grabbing something continuist I will show you why this is true where there is high there is a hidden Circle and in this case that hidden Circle comes from the conservation of energy in fact you're going to see two separate methods which are each and studying and surprising is the fact of self-gratification though it will make you wait until the next video to see what's going on in the meantime I highly encourage you to take a stab at it yourself and be social about it it's a hard puzzle so it never hurts to recruit some other smart Minds to the task."
     ]
    }
   ],
   "source": [
    "! cat hello.txt"
   ]
  },
  {
   "cell_type": "code",
   "execution_count": null,
   "metadata": {},
   "outputs": [],
   "source": []
  }
 ],
 "metadata": {
  "kernelspec": {
   "display_name": "Python 3",
   "language": "python",
   "name": "python3"
  },
  "language_info": {
   "codemirror_mode": {
    "name": "ipython",
    "version": 3
   },
   "file_extension": ".py",
   "mimetype": "text/x-python",
   "name": "python",
   "nbconvert_exporter": "python",
   "pygments_lexer": "ipython3",
   "version": "3.6.7"
  }
 },
 "nbformat": 4,
 "nbformat_minor": 2
}
